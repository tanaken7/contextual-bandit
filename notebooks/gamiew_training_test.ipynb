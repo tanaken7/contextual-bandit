{
  "nbformat": 4,
  "nbformat_minor": 0,
  "metadata": {
    "colab": {
      "name": "[Gamiew送客モデル] トレーニングのテスト.ipynb",
      "provenance": [],
      "collapsed_sections": [],
      "authorship_tag": "ABX9TyNnTJEBhr6CYrZv+nFqrWWO",
      "include_colab_link": true
    },
    "kernelspec": {
      "name": "python3",
      "display_name": "Python 3"
    }
  },
  "cells": [
    {
      "cell_type": "markdown",
      "metadata": {
        "id": "view-in-github",
        "colab_type": "text"
      },
      "source": [
        "<a href=\"https://colab.research.google.com/github/tanaken7/contextual-bandit/blob/master/notebooks/gamiew_training_test.ipynb\" target=\"_parent\"><img src=\"https://colab.research.google.com/assets/colab-badge.svg\" alt=\"Open In Colab\"/></a>"
      ]
    },
    {
      "cell_type": "code",
      "metadata": {
        "id": "uMlofjOcURPC",
        "colab_type": "code",
        "colab": {}
      },
      "source": [
        "from google.colab import auth\n",
        "auth.authenticate_user()"
      ],
      "execution_count": 1,
      "outputs": []
    },
    {
      "cell_type": "code",
      "metadata": {
        "id": "KlhD71QUVd-y",
        "colab_type": "code",
        "colab": {}
      },
      "source": [
        "from google.cloud import bigquery\n",
        "client = bigquery.Client('spartan-production')"
      ],
      "execution_count": 2,
      "outputs": []
    },
    {
      "cell_type": "code",
      "metadata": {
        "id": "9sFV90TzVinm",
        "colab_type": "code",
        "colab": {
          "base_uri": "https://localhost:8080/",
          "height": 34
        },
        "outputId": "c16a9b58-e92a-4a91-c83a-db40d63dce72"
      },
      "source": [
        "from google.colab import drive\n",
        "drive.mount('/content/drive')"
      ],
      "execution_count": 3,
      "outputs": [
        {
          "output_type": "stream",
          "text": [
            "Drive already mounted at /content/drive; to attempt to forcibly remount, call drive.mount(\"/content/drive\", force_remount=True).\n"
          ],
          "name": "stdout"
        }
      ]
    },
    {
      "cell_type": "code",
      "metadata": {
        "id": "9NA2dCU9Vi4X",
        "colab_type": "code",
        "colab": {
          "base_uri": "https://localhost:8080/",
          "height": 136
        },
        "outputId": "eb2df495-3476-48e8-af4e-64cfeabdf3ad"
      },
      "source": [
        "%cd \"/content/drive/My Drive/Colab Notebooks/Gamiew送客モデル\"\n",
        "%ls"
      ],
      "execution_count": 4,
      "outputs": [
        {
          "output_type": "stream",
          "text": [
            "/content/drive/My Drive/Colab Notebooks/Gamiew送客モデル\n",
            " 200628_1000000_train_df.csv\n",
            " bq-results-20200628-152905-ujmer2ctzyd0.csv\n",
            " bq-results-20200629-133445-lhp1usoefnfn.csv\n",
            " bq-results-20200629-134202-674soryz6huh.csv\n",
            " bq-results-20200629-142639-cjrddie7y8w5.csv\n",
            "'[Gamiew送客モデル] トレーニングのテスト.ipynb'\n"
          ],
          "name": "stdout"
        }
      ]
    },
    {
      "cell_type": "code",
      "metadata": {
        "id": "u1pmklyrXKjk",
        "colab_type": "code",
        "colab": {}
      },
      "source": [
        "# ライブラリのインポート\n",
        "import pandas as pd\n",
        "import datetime"
      ],
      "execution_count": 5,
      "outputs": []
    },
    {
      "cell_type": "code",
      "metadata": {
        "id": "ex0EYN2zVqZy",
        "colab_type": "code",
        "colab": {}
      },
      "source": [
        "# 基準日を設定\n",
        "base_date = '2020-06-08'\n",
        "\n",
        "# レンジを設定\n",
        "range_days = 1\n",
        "\n",
        "# 対象ユーザー数を設定\n",
        "user_count = 1000000\n",
        "\n",
        "# ジャンルを設定\n",
        "genres = {\n",
        "    'action':'アクション',\n",
        "    'tps_fps':'TPS・FPS',\n",
        "    'novel':'ノベル',\n",
        "    'card':'カード',\n",
        "    'casual':'カジュアル',\n",
        "    'simulation':'シミュレーション',\n",
        "    'strategy':'ストラテジー',\n",
        "    'sports':'スポーツ',\n",
        "    'puzzle':'パズル',\n",
        "    'board_table':'ボード・テーブル',\n",
        "    'music':'音楽',\n",
        "    'racing':'レーシング',\n",
        "    'action_rpg':'アクションRPG',\n",
        "    'command_rpg':'コマンドRPG',\n",
        "    'mmorpg':'MMORPG',\n",
        "    'shooting':'シューティング',\n",
        "    'gps':'位置情報ゲーム',\n",
        "    'quiz':'クイズ',\n",
        "    'romance':'恋愛',\n",
        "    'fight':'格闘',\n",
        "}\n",
        "\n",
        "# Gamiewのゲームを設定\n",
        "gamiew_games = {\n",
        "    'dqw':'11',\n",
        "    'stella_arcana':'51',\n",
        "    'epick_seven':'58',\n",
        "    'kings_raid':'99',\n",
        "    'mitrasphere':'551'\n",
        "}"
      ],
      "execution_count": 6,
      "outputs": []
    },
    {
      "cell_type": "code",
      "metadata": {
        "id": "ul-lvC2hVtSX",
        "colab_type": "code",
        "colab": {}
      },
      "source": [
        "# BigQueryでqueryを実行しdataframeで出力\n",
        "def exec_query(query):\n",
        "    return pd.read_gbq(query, project_id=\"spartan-production\", dialect=\"standard\")\n",
        "\n",
        "# 基準日に訪問したユーザー一人ひとりのレコードに対して、\n",
        "# 基準日からレンジの期間のジャンル別Game8PVのカラムと、\n",
        "# 基準日からレンジの期間のジャンル別GamiewCVのカラム\n",
        "# を持ったdataframeを定義\n",
        "def generate_train_df(base_date, range_days, genres, exec_query):\n",
        "    # ジャンル部分のカラムを定義\n",
        "    cols1 = '\\n'.join([\"when '\"+v+\"' then '\"+k+\"'\" for k, v in genres.items()])\n",
        "    cols2 = '\\n'.join(['sum('+k+') as '+k+',' for k, v in genres.items()])[:-1]\n",
        "    cols3 = '\\n'.join([\"case c.name when '\"+v+\"' then 1 else 0 end as \"+k+\",\" for k, v in genres.items()])[:-1]\n",
        "    cols4 = '\\n'.join([\"when '\"+k+\"' then \"+v for k, v in gamiew_games.items()])\n",
        "    cols5 = '\\n'.join([\"'\"+k+\"',\" for k, v in gamiew_games.items()])[:-1]\n",
        "    cols6 = '\\n'.join([\"null as \"+k+\",\" for k, v in genres.items()])\n",
        "    cols7 = '\\n'.join([\"sum(\"+k+\") over (partition by unique_id order by time) as \"+k+\",\" for k, v in genres.items()])\n",
        "    cols8 = ','.join(gamiew_games.values())\n",
        "\n",
        "    query = \"\"\"\n",
        "        with gamiew_genre as (\n",
        "            select\n",
        "                *\n",
        "            from\n",
        "                external_query(\n",
        "                    \"gabeeee-production.asia-northeast1.connect-cloud-sql\",\n",
        "                    '''\n",
        "                    select\n",
        "                        concat(tr.game_id) as gamiew_game_id,\n",
        "                        case t.name\n",
        "                            {cols1}\n",
        "                        end as genre\n",
        "                    from\n",
        "                        tag_relationships as tr\n",
        "                    inner join games as g on g.id = tr.game_id\n",
        "                    inner join tags as t on t.id = tr.tag_id\n",
        "                    where t.type = 'genre'\n",
        "                    and g.id in ({cols8})\n",
        "                    '''\n",
        "                )\n",
        "        ), game8_genre as (\n",
        "            select\n",
        "                game_id,\n",
        "                {cols2}\n",
        "            from\n",
        "                external_query(\n",
        "                    \"spartan-production.asia-northeast1.game8\",\n",
        "                    '''\n",
        "                    select\n",
        "                        concat(g.id) as game_id,\n",
        "                        {cols3}\n",
        "                    from\n",
        "                        categories as c\n",
        "                    inner join categories_games as cg on cg.category_game_id = c.id\n",
        "                    inner join games as g on g.id = cg.game_id\n",
        "                    where g.published = 1\n",
        "                    '''\n",
        "                )\n",
        "            group by game_id\n",
        "        ), base_user as (\n",
        "            select\n",
        "                distinct unique_id\n",
        "            from\n",
        "                `spartan-production.game8_s3.access_logs`\n",
        "            where _PARTITIONDATE = date_add(date \"{base_date}\", interval 1 day)\n",
        "            limit {user_count}\n",
        "        ), base_access_logs as (\n",
        "            select\n",
        "                *\n",
        "            from\n",
        "                `spartan-production.game8_s3.access_logs`\n",
        "            inner join game8_genre as g8g on g8g.game_id = json_extract_scalar(query_string, '$.game_id')\n",
        "            where _PARTITIONDATE between date_add(date \"{base_date}\", interval 1 day) and date_add(date \"{base_date}\", interval {range_days} day)\n",
        "            and unique_id in (select * from base_user)\n",
        "        ), base_click_logs as (\n",
        "            select\n",
        "                concat(case data_value\n",
        "                    {cols4}\n",
        "                end) as gamiew_game_id,\n",
        "                json_extract_scalar(query_string, '$.archive_id') as archive_id,\n",
        "                json_extract_scalar(query_string, '$.game_id') as game_id,\n",
        "                *\n",
        "            from\n",
        "                `spartan-production.game8_s3.click_logs`\n",
        "            where _PARTITIONDATE between date_add(date \"{base_date}\", interval 1 day) and date_add(date \"{base_date}\", interval {range_days} day)\n",
        "            and unique_id in (select * from base_user)\n",
        "            and data_value in (\n",
        "                {cols5}\n",
        "            )\n",
        "        ), click_data as (\n",
        "            select\n",
        "                distinct\n",
        "                    unique_id,\n",
        "                    archive_id,\n",
        "                    time,\n",
        "                    format_datetime(\"%H\", time) as hour,\n",
        "                    null as visit_days,\n",
        "                    {cols6}\n",
        "                    gamiew_genre.*,\n",
        "                    1 as cost\n",
        "            from\n",
        "                base_click_logs\n",
        "            full join gamiew_genre using (gamiew_game_id)\n",
        "            where archive_id is not null\n",
        "        ), no_click_data_without_genre as (\n",
        "            select\n",
        "                unique_id,\n",
        "                archive_id,\n",
        "                time,\n",
        "                format_datetime(\"%H\", time) as hour,\n",
        "                dense_rank() over (partition by unique_id order by date(time)) as visit_days,\n",
        "                {cols7}\n",
        "                concat(null) as gamiew_game_id,\n",
        "            from (\n",
        "                select\n",
        "                    unique_id,\n",
        "                    json_extract_scalar(query_string, '$.archive_id') as archive_id,\n",
        "                    max(time) as time,\n",
        "                    {cols2}\n",
        "                from\n",
        "                    base_access_logs\n",
        "                group by unique_id, archive_id\n",
        "            )\n",
        "        ), no_click_data as (\n",
        "            select\n",
        "                *\n",
        "            from\n",
        "                no_click_data_without_genre\n",
        "            cross join (\n",
        "                select\n",
        "                    distinct genre,\n",
        "                    0 as cost\n",
        "                from\n",
        "                    gamiew_genre\n",
        "            )\n",
        "        ), teacher_data_with_blank as (\n",
        "            (\n",
        "                select\n",
        "                    *\n",
        "                from\n",
        "                    click_data\n",
        "            ) union all (\n",
        "                select\n",
        "                    *\n",
        "                from\n",
        "                    no_click_data\n",
        "            )\n",
        "        )\n",
        "        select\n",
        "            *\n",
        "        from\n",
        "            teacher_data_with_blank\n",
        "        order by unique_id, time\n",
        "    \"\"\".format(\n",
        "        cols1=cols1,\n",
        "        cols2=cols2,\n",
        "        cols3=cols3,\n",
        "        cols4=cols4,\n",
        "        cols5=cols5,\n",
        "        cols6=cols6,\n",
        "        cols7=cols7,\n",
        "        cols8=cols8,\n",
        "        user_count=user_count,\n",
        "        base_date=base_date,\n",
        "        range_days=range_days\n",
        "    )\n",
        "    return exec_query(query)"
      ],
      "execution_count": 7,
      "outputs": []
    },
    {
      "cell_type": "code",
      "metadata": {
        "id": "5dRBnqBHp7ij",
        "colab_type": "code",
        "colab": {
          "base_uri": "https://localhost:8080/",
          "height": 612
        },
        "outputId": "00cfadfa-3706-4832-dd80-fa7900ef1695"
      },
      "source": [
        "# base_date = '2020-06-08'\n",
        "# range_days = 1\n",
        "# user_count = 1000000\n",
        "# gamiew_games = {\n",
        "#     'dqw':'11',\n",
        "#     'stella_arcana':'51',\n",
        "#     'epick_seven':'58',\n",
        "#     'kings_raid':'99',\n",
        "#     'mitrasphere':'551'\n",
        "# }\n",
        "# train_df = pd.read_csv('200628_1000000_train_df.csv')\n",
        "train_df = pd.read_csv('bq-results-20200629-142639-cjrddie7y8w5.csv')\n",
        "# train_df = generate_train_df(base_date, range_days, genres, exec_query)\n",
        "train_df.info()"
      ],
      "execution_count": 8,
      "outputs": [
        {
          "output_type": "stream",
          "text": [
            "<class 'pandas.core.frame.DataFrame'>\n",
            "RangeIndex: 22877 entries, 0 to 22876\n",
            "Data columns (total 28 columns):\n",
            " #   Column          Non-Null Count  Dtype  \n",
            "---  ------          --------------  -----  \n",
            " 0   unique_id       22877 non-null  object \n",
            " 1   archive_id      22087 non-null  float64\n",
            " 2   time            22877 non-null  object \n",
            " 3   hour            22877 non-null  int64  \n",
            " 4   visit_days      20965 non-null  float64\n",
            " 5   action          20965 non-null  float64\n",
            " 6   tps_fps         20965 non-null  float64\n",
            " 7   novel           20965 non-null  float64\n",
            " 8   card            20965 non-null  float64\n",
            " 9   casual          20965 non-null  float64\n",
            " 10  simulation      20965 non-null  float64\n",
            " 11  strategy        20965 non-null  float64\n",
            " 12  sports          20965 non-null  float64\n",
            " 13  puzzle          20965 non-null  float64\n",
            " 14  board_table     20965 non-null  float64\n",
            " 15  music           20965 non-null  float64\n",
            " 16  racing          20965 non-null  float64\n",
            " 17  action_rpg      20965 non-null  float64\n",
            " 18  command_rpg     20965 non-null  float64\n",
            " 19  mmorpg          20965 non-null  float64\n",
            " 20  shooting        20965 non-null  float64\n",
            " 21  gps             20965 non-null  float64\n",
            " 22  quiz            20965 non-null  float64\n",
            " 23  romance         20965 non-null  float64\n",
            " 24  fight           20965 non-null  float64\n",
            " 25  gamiew_game_id  1912 non-null   float64\n",
            " 26  genre           22877 non-null  object \n",
            " 27  cost            22877 non-null  int64  \n",
            "dtypes: float64(23), int64(2), object(3)\n",
            "memory usage: 4.9+ MB\n"
          ],
          "name": "stdout"
        }
      ]
    },
    {
      "cell_type": "code",
      "metadata": {
        "id": "9-uEuIbF_xVi",
        "colab_type": "code",
        "colab": {
          "base_uri": "https://localhost:8080/",
          "height": 51
        },
        "outputId": "bc4281ec-10e6-47fb-8dee-fbf5047a44ef"
      },
      "source": [
        "# 特徴量の欠損値を1つ前の値で埋める\n",
        "print(f\"欠損値のある行数\b（穴埋め前）：{len(train_df)-sum(train_df['visit_days'].value_counts().values)}\")\n",
        "train_df[list(genres.keys())+['visit_days']] = train_df[list(genres.keys())+['visit_days']].fillna(method='ffill')\n",
        "train_df[list(genres.keys())+['visit_days']] = train_df[list(genres.keys())+['visit_days']].fillna(method='bfill')\n",
        "print(f\"欠損値のある行数（穴埋め後）：{len(train_df)-sum(train_df['visit_days'].value_counts().values)}\")"
      ],
      "execution_count": 9,
      "outputs": [
        {
          "output_type": "stream",
          "text": [
            "欠損値のある行数\b（穴埋め前）：1912\n",
            "欠損値のある行数（穴埋め後）：0\n"
          ],
          "name": "stdout"
        }
      ]
    },
    {
      "cell_type": "code",
      "metadata": {
        "id": "ikCuHg0JjASr",
        "colab_type": "code",
        "colab": {
          "base_uri": "https://localhost:8080/",
          "height": 68
        },
        "outputId": "c29e1e41-5fd6-4569-bcc5-1453a1ce4780"
      },
      "source": [
        "train_df['cost'].value_counts()"
      ],
      "execution_count": 10,
      "outputs": [
        {
          "output_type": "execute_result",
          "data": {
            "text/plain": [
              " 0    20965\n",
              "-1     1912\n",
              "Name: cost, dtype: int64"
            ]
          },
          "metadata": {
            "tags": []
          },
          "execution_count": 10
        }
      ]
    },
    {
      "cell_type": "code",
      "metadata": {
        "id": "5d-_p0PoV2mH",
        "colab_type": "code",
        "colab": {
          "base_uri": "https://localhost:8080/",
          "height": 34
        },
        "outputId": "9556ff58-41d1-48fd-a3b9-9c23d44b8947"
      },
      "source": [
        "!pip install vowpalwabbit"
      ],
      "execution_count": 11,
      "outputs": [
        {
          "output_type": "stream",
          "text": [
            "Requirement already satisfied: vowpalwabbit in /usr/local/lib/python3.6/dist-packages (8.8.1)\n"
          ],
          "name": "stdout"
        }
      ]
    },
    {
      "cell_type": "code",
      "metadata": {
        "id": "7tbPiU12TZYf",
        "colab_type": "code",
        "colab": {}
      },
      "source": [
        "from vowpalwabbit import pyvw\n",
        "import random\n",
        "import matplotlib.pyplot as plt"
      ],
      "execution_count": 12,
      "outputs": []
    },
    {
      "cell_type": "code",
      "metadata": {
        "id": "sEQ84TrfTHe3",
        "colab_type": "code",
        "colab": {}
      },
      "source": [
        "# This function modifies (context, action, cost, probability) to VW friendly format\n",
        "def to_vw_example_format(context, actions, cb_label = None):\n",
        "    if cb_label is not None:\n",
        "        chosen_action, cost, prob = cb_label\n",
        "    example_string = \"\"\n",
        "    example_string += f\"shared |User visit_days={context['visit_days']} hour={context['hour']} \"\n",
        "    example_string += ' '.join([action+'='+str(context[action]) for action in actions])\n",
        "    example_string += '\\n'\n",
        "    for action in actions:\n",
        "        if cb_label is not None and action == chosen_action:\n",
        "            example_string += \"0:{}:{} \".format(cost, prob)\n",
        "        example_string += \"|Action genre={} \\n\".format(action)\n",
        "    #Strip the last newline\n",
        "    return example_string[:-1]\n",
        "\n",
        "def sample_custom_pmf(pmf):\n",
        "    total = sum(pmf)\n",
        "    scale = 1/total\n",
        "    pmf = [x * scale for x in pmf]\n",
        "    draw = random.random()\n",
        "    sum_prob = 0.0\n",
        "    for index, prob in enumerate(pmf):\n",
        "        sum_prob += prob\n",
        "        if(sum_prob > draw):\n",
        "            return index, prob\n",
        "\n",
        "def get_action(vw, context, actions, action = None):\n",
        "    vw_text_example = to_vw_example_format(context,actions)\n",
        "    pmf = vw.predict(vw_text_example)\n",
        "    if action is not None:\n",
        "        prob = pmf[actions.index(action)]\n",
        "    else:\n",
        "        chosen_action_index, prob = sample_custom_pmf(pmf)\n",
        "        action = actions[chosen_action_index]\n",
        "    return action, prob"
      ],
      "execution_count": 13,
      "outputs": []
    },
    {
      "cell_type": "code",
      "metadata": {
        "id": "EGOXyMCRUrcC",
        "colab_type": "code",
        "colab": {}
      },
      "source": [
        "def run_simulation(vw, df, actions, do_learn = True):\n",
        "    cost_sum = 0.\n",
        "    ctr = []\n",
        "\n",
        "    for index, row in df.iterrows():\n",
        "        context_user = {\n",
        "            'visit_days' : row['visit_days'],\n",
        "            'hour' : row['hour'],\n",
        "        }\n",
        "        context_genre = dict([[action,row[action]] for action in actions])\n",
        "        context = dict(context_user, **context_genre)\n",
        "        action = row['genre']\n",
        "        action, prob = get_action(vw, context, actions, action)\n",
        "        cost = row['cost']\n",
        "        cost_sum += cost\n",
        "\n",
        "        if do_learn:\n",
        "            vw_format = vw.parse(to_vw_example_format(context, actions, (action, cost, prob)),pyvw.vw.lContextualBandit)\n",
        "            vw.learn(vw_format)\n",
        "\n",
        "        ctr.append(-1*cost_sum/(index+1))\n",
        "    return ctr"
      ],
      "execution_count": 16,
      "outputs": []
    },
    {
      "cell_type": "code",
      "metadata": {
        "id": "ldZtzK2BUrZx",
        "colab_type": "code",
        "colab": {}
      },
      "source": [
        "def plot_ctr(df, ctr):\n",
        "    plt.plot(range(1,len(df)+1), ctr)\n",
        "    plt.xlabel('num_iterations', fontsize=14)\n",
        "    plt.ylabel('ctr', fontsize=14)\n",
        "    plt.ylim([0,1])"
      ],
      "execution_count": 17,
      "outputs": []
    },
    {
      "cell_type": "code",
      "metadata": {
        "id": "gIhRQz8TNCgF",
        "colab_type": "code",
        "colab": {}
      },
      "source": [
        "actions = list(genres.keys())\n",
        "df = train_df\n",
        "vw = pyvw.vw(\"--cb_explore_adf -q UA --quiet --epsilon 0.2\")\n",
        "ctr = run_simulation(vw, df, actions)\n",
        "plot_ctr(df, ctr)"
      ],
      "execution_count": null,
      "outputs": []
    },
    {
      "cell_type": "code",
      "metadata": {
        "id": "ZpbyldurZbE4",
        "colab_type": "code",
        "colab": {}
      },
      "source": [
        ""
      ],
      "execution_count": null,
      "outputs": []
    }
  ]
}